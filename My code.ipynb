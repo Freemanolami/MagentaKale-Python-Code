{
 "cells": [
  {
   "cell_type": "code",
   "execution_count": 1,
   "metadata": {},
   "outputs": [
    {
     "name": "stdout",
     "output_type": "stream",
     "text": [
      "100\n"
     ]
    }
   ],
   "source": [
    "print(10*10)"
   ]
  },
  {
   "cell_type": "code",
   "execution_count": 1,
   "metadata": {},
   "outputs": [
    {
     "name": "stdout",
     "output_type": "stream",
     "text": [
      "8\n"
     ]
    }
   ],
   "source": [
    "x = 5\n",
    "x += 3 \n",
    "print(x)"
   ]
  },
  {
   "cell_type": "code",
   "execution_count": 2,
   "metadata": {},
   "outputs": [
    {
     "name": "stdout",
     "output_type": "stream",
     "text": [
      "True\n"
     ]
    }
   ],
   "source": [
    "result = 5 == 5\n",
    "print(result)"
   ]
  },
  {
   "cell_type": "code",
   "execution_count": 6,
   "metadata": {},
   "outputs": [
    {
     "data": {
      "text/plain": [
       "True"
      ]
     },
     "execution_count": 6,
     "metadata": {},
     "output_type": "execute_result"
    }
   ],
   "source": [
    "5+4*(6/2)-(8*3)+20 != 100"
   ]
  },
  {
   "cell_type": "code",
   "execution_count": 7,
   "metadata": {},
   "outputs": [
    {
     "name": "stdout",
     "output_type": "stream",
     "text": [
      "400\n"
     ]
    }
   ],
   "source": [
    "x = 100\n",
    "x *= 4\n",
    "print(x)"
   ]
  },
  {
   "cell_type": "code",
   "execution_count": null,
   "metadata": {},
   "outputs": [
    {
     "name": "stdout",
     "output_type": "stream",
     "text": [
      "2024 is a leap year.\n"
     ]
    }
   ],
   "source": [
    "year = int(input(\"Enter a year: \"))\n",
    "if year % 4 == 0:\n",
    "   print(f\"{year} is a leap year.\")\n",
    "elif year % 100 == 0 and year % 400 == 0:\n",
    "    print(f\"{year} is a leap year.\")\n",
    "else:\n",
    "    print(f\"{year} is not a leap year\")"
   ]
  },
  {
   "cell_type": "code",
   "execution_count": 20,
   "metadata": {},
   "outputs": [
    {
     "data": {
      "text/plain": [
       "20.24"
      ]
     },
     "execution_count": 20,
     "metadata": {},
     "output_type": "execute_result"
    }
   ],
   "source": [
    "2024/100"
   ]
  },
  {
   "cell_type": "code",
   "execution_count": 22,
   "metadata": {},
   "outputs": [
    {
     "name": "stdout",
     "output_type": "stream",
     "text": [
      "Buzz\n"
     ]
    }
   ],
   "source": [
    "def is_prime(n):\n",
    "    if n < 2:\n",
    "        return False\n",
    "    for i in range(2, int(n ** 0.5) + 1):\n",
    "        if n % i == 0:\n",
    "            return False\n",
    "    return True\n",
    "\n",
    "num = int(input(\"Enter a number: \"))\n",
    "\n",
    "if is_prime(num):\n",
    "    print(\"Prime\")\n",
    "elif num % 3 == 0 and num % 5 == 0:\n",
    "    print(\"FizzBuzz\")\n",
    "elif num % 3 == 0:\n",
    "    print(\"Fizz\")\n",
    "elif num % 5 == 0:\n",
    "    print(\"Buzz\")\n",
    "else:\n",
    "    print(num)\n",
    "\n"
   ]
  },
  {
   "cell_type": "code",
   "execution_count": 23,
   "metadata": {},
   "outputs": [
    {
     "name": "stdout",
     "output_type": "stream",
     "text": [
      "Hello Favour Oyeniran,\n",
      "Your original price was #70,000\n",
      "You got a 5% discount\n",
      "Your discounted price is #66,500\n",
      "Thank you for your patronage!\n"
     ]
    }
   ],
   "source": [
    "def apply_discount(price, name):\n",
    "    if price < 50000:\n",
    "        discount_rate = 0\n",
    "    elif price <= 100000:\n",
    "        discount_rate = 0.05\n",
    "    elif price <= 200000:\n",
    "        discount_rate = 0.10\n",
    "    else:\n",
    "        discount_rate = 0.15\n",
    "    \n",
    "    discount = price * discount_rate\n",
    "    discounted_price = price - discount\n",
    "    \n",
    "    print(f\"Hello {name},\\nYour original price was #{price:,.0f}\\nYou got a {discount_rate*100:.0f}% discount\\nYour discounted price is #{discounted_price:,.0f}\\nThank you for your patronage!\")\n",
    "\n",
    "name = input(\"Enter your name: \")\n",
    "price = float(input(\"Enter the price: \"))\n",
    "apply_discount(price, name)\n"
   ]
  },
  {
   "cell_type": "code",
   "execution_count": 28,
   "metadata": {},
   "outputs": [
    {
     "name": "stdout",
     "output_type": "stream",
     "text": [
      "The total number of digits:  15\n"
     ]
    }
   ],
   "source": [
    "def count_digits(n):\n",
    "    return len(str(n))\n",
    "\n",
    "num = 228975678736544\n",
    "total_digits = count_digits(num)\n",
    "print(\"The total number of digits: \", total_digits)"
   ]
  },
  {
   "cell_type": "code",
   "execution_count": 34,
   "metadata": {},
   "outputs": [
    {
     "name": "stdout",
     "output_type": "stream",
     "text": [
      "the total number of digits: 1\n"
     ]
    }
   ],
   "source": [
    "def count_digits(num):\n",
    "    count = 0\n",
    "    for digit in str(num):\n",
    "        count += 1\n",
    "    return count\n",
    "\n",
    "num = 5\n",
    "total_digits = count_digits(num)\n",
    "print(\"the total number of digits:\", total_digits)\n"
   ]
  },
  {
   "cell_type": "code",
   "execution_count": 37,
   "metadata": {},
   "outputs": [
    {
     "name": "stdout",
     "output_type": "stream",
     "text": [
      "10987654321\n",
      "987654321\n",
      "87654321\n",
      "7654321\n",
      "654321\n",
      "54321\n",
      "4321\n",
      "321\n",
      "21\n",
      "1\n",
      "\n"
     ]
    }
   ],
   "source": [
    "number = eval(input(\"enter a number to start the pattern: \"))\n",
    "k = number\n",
    "for i in range(0, number + 1):\n",
    "    for j in range(k-i, 0, -1):\n",
    "        print(j, end='')\n",
    "    print()"
   ]
  },
  {
   "cell_type": "code",
   "execution_count": 39,
   "metadata": {},
   "outputs": [
    {
     "name": "stdout",
     "output_type": "stream",
     "text": [
      "19\n"
     ]
    }
   ],
   "source": [
    "user_input = input(\"enter a number you want to count the digits:\")\n",
    "\n",
    "count = 0\n",
    "for digit in user_input:\n",
    "    count += 1\n",
    "print(count)"
   ]
  },
  {
   "cell_type": "code",
   "execution_count": 40,
   "metadata": {},
   "outputs": [
    {
     "name": "stdout",
     "output_type": "stream",
     "text": [
      "19\n"
     ]
    }
   ],
   "source": [
    "count = 0\n",
    "while True:\n",
    "    count += 1\n",
    "    if count >= len(user_input):\n",
    "        break\n",
    "print(count)"
   ]
  },
  {
   "cell_type": "code",
   "execution_count": 43,
   "metadata": {},
   "outputs": [
    {
     "name": "stdout",
     "output_type": "stream",
     "text": [
      "student name: Favour, Average Score: 87, Grade: B\n"
     ]
    }
   ],
   "source": [
    "\n",
    "\n",
    "\n",
    "student_name = input(\"Please enter the students name: \")\n",
    "\n",
    "score1 = float(input(\"Enter the first test score (1-100): \"))\n",
    "score2 = float(input(\"Enter the second test score (1-100): \"))\n",
    "score3 = float(input(\"Enter the third test score (1-100): \"))\n",
    "\n",
    "average_score = round((score1 + score2 + score3) / 3)\n",
    "\n",
    "if average_score >= 90:\n",
    "    grade = \"A\"\n",
    "elif average_score >= 80:\n",
    "    grade = \"B\"\n",
    "elif average_score >= 70:\n",
    "    grade = \"C\"\n",
    "elif average_score >= 60:\n",
    "    grade = \"D\"\n",
    "else: \n",
    "    grade = \"F\"\n",
    "\n",
    "print(f\"student name: {student_name}, Average Score: {average_score}, Grade: {grade}\")"
   ]
  },
  {
   "cell_type": "markdown",
   "metadata": {},
   "source": [
    "1. Ask the student's name\n",
    "2. Accept 3 inputs from the user (3 different test scores between 0-100)\n",
    "3. Calculate the average score\n",
    "4. Determine the grade of the average score\n",
    "5. Print the student's name , the average score and the grade of the average score."
   ]
  },
  {
   "cell_type": "code",
   "execution_count": 1,
   "metadata": {},
   "outputs": [
    {
     "name": "stdout",
     "output_type": "stream",
     "text": [
      "password: Freeman10500#\n",
      " - Uppercase Letters: 1\n",
      " - Lowercase Letters: 6\n",
      " - Digits: 5\n",
      " - Special Characters: 1\n",
      "\n",
      "Password Strength: Moderate\n"
     ]
    }
   ],
   "source": [
    "\n",
    "# Get user input\n",
    "password = input(\"Enter your password: \")\n",
    "\n",
    "# Initialize counters\n",
    "uppercase_count = 0\n",
    "lowercase_count = 0\n",
    "digit_count = 0\n",
    "special_count = 0\n",
    "\n",
    "# Iterate through each character in the password\n",
    "for char in password:\n",
    "    if char.isupper():\n",
    "        uppercase_count += 1\n",
    "    elif char.islower():\n",
    "        lowercase_count += 1\n",
    "    elif char.isdigit():\n",
    "        digit_count += 1\n",
    "    elif not char.isalnum():\n",
    "        special_count += 1\n",
    "\n",
    "# Determine password strength\n",
    "if len(password) < 8 or (digit_count == 0 and special_count == 0):\n",
    "    strength = \"Weak\"\n",
    "elif len(password) >= 8 and (uppercase_count > 0 or lowercase_count > 0) and digit_count > 0:\n",
    "    strength = \"Moderate\"\n",
    "elif len(password) >= 8 and uppercase_count > 0 and lowercase_count > 0 and digit_count > 0 and special_count > 0:\n",
    "    strength = \"Strong\"\n",
    "else:\n",
    "    strength = \"Weak\"\n",
    "\n",
    "# Display summary\n",
    "print(\"password: \" + password)\n",
    "print(f\" - Uppercase Letters: {uppercase_count}\")\n",
    "print(f\" - Lowercase Letters: {lowercase_count}\")\n",
    "print(f\" - Digits: {digit_count}\")\n",
    "print(f\" - Special Characters: {special_count}\")\n",
    "print(f\"\\nPassword Strength: {strength}\")\n"
   ]
  },
  {
   "cell_type": "code",
   "execution_count": 1,
   "metadata": {},
   "outputs": [
    {
     "name": "stdout",
     "output_type": "stream",
     "text": [
      "\n",
      "Number in words: One Two Three\n",
      "Sum of digits: 6\n",
      "Sum type: Even sum\n"
     ]
    }
   ],
   "source": [
    "digit_words = {\n",
    "    '0': 'Zero', '1': 'One', '2': 'Two', '3': 'Three', '4': 'Four',\n",
    "    '5': 'Five', '6': 'Six', '7': 'Seven', '8': 'Eight', '9': 'Nine'\n",
    "}\n",
    "\n",
    "number = input(\"Enter a number: \")\n",
    "\n",
    "digit_word_list = []\n",
    "for digit in number:\n",
    "    digit_word_list.append(digit_words[digit])\n",
    "\n",
    "word_representation = \" \".join(digit_word_list)\n",
    "\n",
    "digit_sum = 0\n",
    "for digit in number:\n",
    "    digit_sum += int(digit)\n",
    "\n",
    "\n",
    "if digit_sum % 2 == 0:\n",
    "    sum_type = \"Even sum\"\n",
    "else:\n",
    "    sum_type = \"Odd sum\"\n",
    "\n",
    "print(f\"\\nNumber in words: {word_representation}\")\n",
    "print(f\"Sum of digits: {digit_sum}\")\n",
    "print(f\"Sum type: {sum_type}\")\n"
   ]
  },
  {
   "cell_type": "code",
   "execution_count": null,
   "metadata": {},
   "outputs": [],
   "source": []
  }
 ],
 "metadata": {
  "kernelspec": {
   "display_name": "base",
   "language": "python",
   "name": "python3"
  },
  "language_info": {
   "codemirror_mode": {
    "name": "ipython",
    "version": 3
   },
   "file_extension": ".py",
   "mimetype": "text/x-python",
   "name": "python",
   "nbconvert_exporter": "python",
   "pygments_lexer": "ipython3",
   "version": "3.12.7"
  }
 },
 "nbformat": 4,
 "nbformat_minor": 2
}
