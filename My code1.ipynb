{
 "cells": [
  {
   "cell_type": "code",
   "execution_count": 4,
   "metadata": {},
   "outputs": [
    {
     "name": "stdout",
     "output_type": "stream",
     "text": [
      "Processing Order: Laptop - Quantity: 2 - Price: $500\n",
      "Total Cost: $1000.00 \n",
      "\n",
      "Processing Order: Mouse - Quantity: 5 - Price: $20\n",
      "Total Cost: $100.00 \n",
      "\n",
      "Skipping order due to errors. Check error_log.txt for details.\n",
      "\n",
      "Skipping order due to errors. Check error_log.txt for details.\n",
      "\n",
      "Skipping order due to errors. Check error_log.txt for details.\n",
      "\n",
      "Skipping order due to errors. Check error_log.txt for details.\n",
      "\n"
     ]
    }
   ],
   "source": [
    "# Sample order data\n",
    "orders = [\n",
    "    {\"product\": \"Laptop\", \"quantity\": 2, \"price\": 500}, \n",
    "    {\"product\": \"Mouse\", \"quantity\": 5, \"price\": 20},\n",
    "    {\"product\": \"Keyboard\", \"quantity\": -1, \"price\": 50},  \n",
    "    {\"product\": \"Monitor\", \"quantity\": 1, \"price\": \"150\"},  \n",
    "    {\"product\": \"\", \"quantity\": 2, \"price\": 100},  \n",
    "    {\"product\": \"Desk\", \"quantity\": 1},  \n",
    "]\n",
    "\n",
    "# Discount \n",
    "DISCOUNT_THRESHOLD = 1000\n",
    "DISCOUNT_PERCENTAGE = 0.10\n",
    "\n",
    "# File to store error logs\n",
    "error_log_file = \"error_log.txt\"\n",
    "\n",
    "# Clear previous log content\n",
    "with open(error_log_file, \"w\") as file:\n",
    "    file.write(\"\") \n",
    "\n",
    "# Process each order\n",
    "for order in orders:\n",
    "    try:\n",
    "        # Validate product name\n",
    "        if \"product\" not in order or order[\"product\"] == \"\":\n",
    "            raise ValueError(\"Missing product name.\")\n",
    "\n",
    "        # Validate quantity\n",
    "        if \"quantity\" not in order or not isinstance(order[\"quantity\"], int) or order[\"quantity\"] <= 0:\n",
    "            raise ValueError(f\"Invalid quantity for {order.get('product', 'Unknown')}: {order.get('quantity')}\")\n",
    "\n",
    "        # Validate price\n",
    "        if \"price\" not in order or not isinstance(order[\"price\"], (int, float)):\n",
    "            raise ValueError(f\"Price for {order['product']} is not a valid number: {order.get('price')}\")\n",
    "\n",
    "        # Calculate total cost\n",
    "        total_cost = order[\"quantity\"] * order[\"price\"]\n",
    "\n",
    "        # Apply discount if applicable\n",
    "        if total_cost > DISCOUNT_THRESHOLD:\n",
    "            total_cost -= total_cost * DISCOUNT_PERCENTAGE\n",
    "            discount_applied = \"(10% discount applied)\"\n",
    "        else:\n",
    "            discount_applied = \"\"\n",
    "\n",
    "        # Print order summary\n",
    "        print(f\"Processing Order: {order['product']} - Quantity: {order['quantity']} - Price: ${order['price']}\")\n",
    "        print(f\"Total Cost: ${total_cost:.2f} {discount_applied}\\n\")\n",
    "\n",
    "    except ValueError as e:\n",
    "        # Log errors manually into the file\n",
    "        with open(error_log_file, \"a\") as file:\n",
    "            file.write(f\"[ERROR] {e}\\n\")\n",
    "        print(\"Skipping order due to errors. Check error_log.txt for details.\\n\")\n",
    "\n"
   ]
  },
  {
   "cell_type": "code",
   "execution_count": null,
   "metadata": {},
   "outputs": [],
   "source": []
  }
 ],
 "metadata": {
  "kernelspec": {
   "display_name": "base",
   "language": "python",
   "name": "python3"
  },
  "language_info": {
   "codemirror_mode": {
    "name": "ipython",
    "version": 3
   },
   "file_extension": ".py",
   "mimetype": "text/x-python",
   "name": "python",
   "nbconvert_exporter": "python",
   "pygments_lexer": "ipython3",
   "version": "3.12.7"
  }
 },
 "nbformat": 4,
 "nbformat_minor": 2
}
